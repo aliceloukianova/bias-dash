{
 "cells": [
  {
   "cell_type": "code",
   "execution_count": 1,
   "metadata": {},
   "outputs": [],
   "source": [
    "import pandas as pd\n",
    "import pathlib\n",
    "from sklearn.preprocessing import LabelEncoder\n",
    "from pathlib import Path\n",
    "import numpy as np\n",
    "import scipy as sp\n",
    "import plotly.express as px\n",
    "import plotly.graph_objects as go"
   ]
  },
  {
   "cell_type": "code",
   "execution_count": 3,
   "metadata": {},
   "outputs": [
    {
     "ename": "NameError",
     "evalue": "name 'dir_data' is not defined",
     "output_type": "error",
     "traceback": [
      "\u001b[1;31m---------------------------------------------------------------------------\u001b[0m",
      "\u001b[1;31mNameError\u001b[0m                                 Traceback (most recent call last)",
      "\u001b[1;32m<ipython-input-3-05bc3a766295>\u001b[0m in \u001b[0;36m<module>\u001b[1;34m\u001b[0m\n\u001b[1;32m----> 1\u001b[1;33m \u001b[0mDATA_PATH\u001b[0m \u001b[1;33m=\u001b[0m \u001b[0mPath\u001b[0m\u001b[1;33m(\u001b[0m\u001b[0mdir_data\u001b[0m\u001b[1;33m)\u001b[0m\u001b[1;33m\u001b[0m\u001b[1;33m\u001b[0m\u001b[0m\n\u001b[0m\u001b[0;32m      2\u001b[0m \u001b[0mBFWdf\u001b[0m \u001b[1;33m=\u001b[0m \u001b[0mpd\u001b[0m\u001b[1;33m.\u001b[0m\u001b[0mread_csv\u001b[0m\u001b[1;33m(\u001b[0m\u001b[0mDATA_PATH\u001b[0m\u001b[1;33m.\u001b[0m\u001b[0mjoinpath\u001b[0m\u001b[1;33m(\u001b[0m\u001b[1;34m\"bfw-v0.1.5-datatable.csv\"\u001b[0m\u001b[1;33m)\u001b[0m\u001b[1;33m)\u001b[0m\u001b[1;33m\u001b[0m\u001b[1;33m\u001b[0m\u001b[0m\n\u001b[0;32m      3\u001b[0m \u001b[1;31m# projdata = pd.read_pickle(DATA_PATH.joinpath(\"bfw-0.1.5-datatable.pkl\"))\u001b[0m\u001b[1;33m\u001b[0m\u001b[1;33m\u001b[0m\u001b[1;33m\u001b[0m\u001b[0m\n\u001b[0;32m      4\u001b[0m \u001b[0mBFWdf\u001b[0m\u001b[1;33m.\u001b[0m\u001b[0mhead\u001b[0m\u001b[1;33m(\u001b[0m\u001b[1;33m)\u001b[0m\u001b[1;33m\u001b[0m\u001b[1;33m\u001b[0m\u001b[0m\n",
      "\u001b[1;31mNameError\u001b[0m: name 'dir_data' is not defined"
     ]
    }
   ],
   "source": [
    "DATA_PATH = Path(dir_data)\n",
    "BFWdf = pd.read_csv(DATA_PATH.joinpath(\"bfw-v0.1.5-datatable.csv\"))\n",
    "# projdata = pd.read_pickle(DATA_PATH.joinpath(\"bfw-0.1.5-datatable.pkl\"))\n",
    "BFWdf.head()"
   ]
  },
  {
   "cell_type": "code",
   "execution_count": 4,
   "metadata": {},
   "outputs": [
    {
     "ename": "NameError",
     "evalue": "name 'BFWdf' is not defined",
     "output_type": "error",
     "traceback": [
      "\u001b[1;31m---------------------------------------------------------------------------\u001b[0m",
      "\u001b[1;31mNameError\u001b[0m                                 Traceback (most recent call last)",
      "\u001b[1;32m<ipython-input-4-6b2153dfae30>\u001b[0m in \u001b[0;36m<module>\u001b[1;34m\u001b[0m\n\u001b[1;32m----> 1\u001b[1;33m \u001b[0mBFWdf\u001b[0m\u001b[1;33m.\u001b[0m\u001b[0mlabel\u001b[0m \u001b[1;33m=\u001b[0m \u001b[0mBFWdf\u001b[0m\u001b[1;33m.\u001b[0m\u001b[0mlabel\u001b[0m\u001b[1;33m.\u001b[0m\u001b[0mastype\u001b[0m\u001b[1;33m(\u001b[0m\u001b[0mint\u001b[0m\u001b[1;33m)\u001b[0m\u001b[1;33m\u001b[0m\u001b[1;33m\u001b[0m\u001b[0m\n\u001b[0m\u001b[0;32m      2\u001b[0m \u001b[0mBFWdf\u001b[0m\u001b[1;33m[\u001b[0m\u001b[1;34m'score'\u001b[0m\u001b[1;33m]\u001b[0m \u001b[1;33m=\u001b[0m \u001b[0mBFWdf\u001b[0m\u001b[1;33m[\u001b[0m\u001b[1;34m'senet50'\u001b[0m\u001b[1;33m]\u001b[0m\u001b[1;33m\u001b[0m\u001b[1;33m\u001b[0m\u001b[0m\n\u001b[0;32m      3\u001b[0m \u001b[0mBFWdf\u001b[0m\u001b[1;33m[\u001b[0m\u001b[1;34m'subgroup'\u001b[0m\u001b[1;33m]\u001b[0m \u001b[1;33m=\u001b[0m \u001b[0mBFWdf\u001b[0m\u001b[1;33m[\u001b[0m\u001b[1;34m'a1'\u001b[0m\u001b[1;33m]\u001b[0m\u001b[1;33m\u001b[0m\u001b[1;33m\u001b[0m\u001b[0m\n\u001b[0;32m      4\u001b[0m \u001b[1;33m\u001b[0m\u001b[0m\n\u001b[0;32m      5\u001b[0m \u001b[0mnew_labels\u001b[0m \u001b[1;33m=\u001b[0m \u001b[1;33m[\u001b[0m\u001b[1;34m\"Imposter\"\u001b[0m\u001b[1;33m,\u001b[0m \u001b[1;34m\"Genuine\"\u001b[0m\u001b[1;33m]\u001b[0m\u001b[1;33m\u001b[0m\u001b[1;33m\u001b[0m\u001b[0m\n",
      "\u001b[1;31mNameError\u001b[0m: name 'BFWdf' is not defined"
     ]
    }
   ],
   "source": [
    "BFWdf.label = BFWdf.label.astype(int)\n",
    "BFWdf['score'] = BFWdf['senet50']\n",
    "BFWdf['subgroup'] = BFWdf['a1']\n",
    "\n",
    "new_labels = [\"Imposter\", \"Genuine\"]\n",
    "\n",
    "BFWdf[\"Tag\"] = BFWdf[\"label\"]\n",
    "BFWdf.loc[BFWdf[\"label\"] == 0, \"Tag\"] = new_labels[0]\n",
    "BFWdf.loc[BFWdf[\"label\"] == 1, \"Tag\"] = new_labels[1]\n",
    "BFWdf.head(10)"
   ]
  },
  {
   "cell_type": "code",
   "execution_count": 5,
   "metadata": {},
   "outputs": [
    {
     "ename": "NameError",
     "evalue": "name 'BFWdf' is not defined",
     "output_type": "error",
     "traceback": [
      "\u001b[1;31m---------------------------------------------------------------------------\u001b[0m",
      "\u001b[1;31mNameError\u001b[0m                                 Traceback (most recent call last)",
      "\u001b[1;32m<ipython-input-5-ce64d83f5f12>\u001b[0m in \u001b[0;36m<module>\u001b[1;34m\u001b[0m\n\u001b[0;32m      1\u001b[0m fig = px.violin(\n\u001b[1;32m----> 2\u001b[1;33m     \u001b[0mBFWdf\u001b[0m\u001b[1;33m,\u001b[0m\u001b[1;33m\u001b[0m\u001b[1;33m\u001b[0m\u001b[0m\n\u001b[0m\u001b[0;32m      3\u001b[0m     \u001b[0my\u001b[0m\u001b[1;33m=\u001b[0m\u001b[1;34m\"score\"\u001b[0m\u001b[1;33m,\u001b[0m \u001b[1;31m#score\u001b[0m\u001b[1;33m\u001b[0m\u001b[1;33m\u001b[0m\u001b[0m\n\u001b[0;32m      4\u001b[0m     \u001b[0mx\u001b[0m\u001b[1;33m=\u001b[0m\u001b[1;34m'subgroup'\u001b[0m\u001b[1;33m,\u001b[0m  \u001b[1;31m#subgroup\u001b[0m\u001b[1;33m\u001b[0m\u001b[1;33m\u001b[0m\u001b[0m\n\u001b[0;32m      5\u001b[0m     \u001b[0mcolor\u001b[0m\u001b[1;33m=\u001b[0m\u001b[1;34m\"Tag\"\u001b[0m\u001b[1;33m,\u001b[0m\u001b[1;33m\u001b[0m\u001b[1;33m\u001b[0m\u001b[0m\n",
      "\u001b[1;31mNameError\u001b[0m: name 'BFWdf' is not defined"
     ]
    }
   ],
   "source": [
    "fig = px.violin(\n",
    "    BFWdf, \n",
    "    y=\"score\", #score\n",
    "    x='subgroup',  #subgroup\n",
    "    color=\"Tag\", \n",
    "    color_discrete_sequence=[\"orange\", \"lightblue\"],\n",
    "    #side=\"negative\",\n",
    "    box=False, #shows boxplot inside violin\n",
    "    #meanline=True, \n",
    "    #meanline=(color=\"yellow\", visible=True, width=100),\n",
    "    title = \"SDM Curve Per Subgroup\",\n",
    "    violinmode='overlay', #'overlay', 'group'\n",
    "    log_y=True, #y-axis is log-scaled in cartesian coordinates\n",
    "    #fig.update_xaxes(showticklabels=False,showgrid=False,zeroline=True),    \n",
    "    category_orders={\"Tag\": [\"Imposter\", \"Genuine\"]} #keys need to correspond to column names, values are lists of strings in order\n",
    "    ).update_xaxes(categoryorder=\"total ascending\")   \n",
    "\n",
    "fig.show()"
   ]
  },
  {
   "cell_type": "code",
   "execution_count": 7,
   "metadata": {},
   "outputs": [],
   "source": [
    "def sdm_curve(data):\n",
    "    fig = go.Figure()\n",
    "    fig.add_trace(go.Violin(x=data['subgroup'][data['Tag'] == 'Imposter'],\n",
    "                            y=data['score'][data['Tag'] == 'Imposter'],\n",
    "                            legendgroup='Imposter', scalegroup='Imposter', name='Imposter',\n",
    "                            side='negative',\n",
    "                            line_color='blue')\n",
    "                  )\n",
    "    fig.add_trace(go.Violin(x=data['subgroup'][data['Tag'] == 'Genuine'],\n",
    "                            y=data['score'][data['Tag'] == 'Genuine'],\n",
    "                            legendgroup='Genuine', scalegroup='Genuine', name='Genuine',\n",
    "                            side='positive',\n",
    "                            line_color='red')\n",
    "                  )\n",
    "    fig.update_traces(meanline_visible=True,)\n",
    "    fig.update_layout(violinmode='overlay',\n",
    "                      # title=\"SDM Curve Per Subgroup\",\n",
    "                      xaxis_title=\"subgroup\",\n",
    "                      yaxis_title=\"score\")\n",
    "    fig.update_xaxes(categoryorder=\"category ascending\")\n",
    "    return fig"
   ]
  },
  {
   "cell_type": "code",
   "execution_count": null,
   "metadata": {},
   "outputs": [],
   "source": []
  }
 ],
 "metadata": {
  "kernelspec": {
   "display_name": "Python 3",
   "language": "python",
   "name": "python3"
  },
  "language_info": {
   "codemirror_mode": {
    "name": "ipython",
    "version": 3
   },
   "file_extension": ".py",
   "mimetype": "text/x-python",
   "name": "python",
   "nbconvert_exporter": "python",
   "pygments_lexer": "ipython3",
   "version": "3.7.4"
  }
 },
 "nbformat": 4,
 "nbformat_minor": 2
}
